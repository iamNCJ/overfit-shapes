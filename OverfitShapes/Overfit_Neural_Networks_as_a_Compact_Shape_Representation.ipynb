{
  "nbformat": 4,
  "nbformat_minor": 0,
  "metadata": {
    "accelerator": "GPU",
    "colab": {
      "name": "Overfit Neural Networks as a Compact Shape Representation",
      "provenance": [],
      "collapsed_sections": []
    },
    "kernelspec": {
      "display_name": "Python 3",
      "name": "python3"
    }
  },
  "cells": [
    {
      "cell_type": "code",
      "metadata": {
        "id": "k7IRG04mT_Cj",
        "outputId": "a5d6f4cc-c445-4bb1-9ce1-b1e92f013e99",
        "colab": {
          "base_uri": "https://localhost:8080/",
          "height": 1000
        }
      },
      "source": [
        "from NeuralImplicit import NeuralImplicit\n",
        "bunny = NeuralImplicit()\n",
        "bunny.encode(\"cube.obj\")"
      ],
      "execution_count": null,
      "outputs": []
    },
    {
      "cell_type": "code",
      "metadata": {
        "id": "qT5BIpQswfH1"
      },
      "source": [
        ""
      ],
      "execution_count": null,
      "outputs": []
    }
  ]
}